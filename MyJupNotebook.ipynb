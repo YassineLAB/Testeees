{
 "cells": [
  {
   "cell_type": "markdown",
   "id": "019c0aeb",
   "metadata": {},
   "source": [
    "<H1>My Jupyter Notebook on IBM Watson Studio\n",
    "\n"
   ]
  },
  {
   "cell_type": "markdown",
   "id": "d611f6ae",
   "metadata": {},
   "source": [
    "**Mohammed Yassine Labib**\n",
    "<br>Data Engineer"
   ]
  },
  {
   "cell_type": "markdown",
   "id": "69db8448",
   "metadata": {},
   "source": [
    "_I am interested in Data Science because I love Math, statistics, computer science, and management._"
   ]
  },
  {
   "cell_type": "markdown",
   "id": "e790f1ff",
   "metadata": {},
   "source": [
    "<H3> Here below the code will Print \"Thank you IBM Skills Network Team !\"  "
   ]
  },
  {
   "cell_type": "code",
   "execution_count": 20,
   "id": "691c5222",
   "metadata": {},
   "outputs": [
    {
     "name": "stdout",
     "output_type": "stream",
     "text": [
      "Thank you IBM Skills Network Team !\n"
     ]
    }
   ],
   "source": [
    "print(\"Thank you IBM Skills Network Team !\")"
   ]
  },
  {
   "cell_type": "markdown",
   "id": "ee088362",
   "metadata": {},
   "source": [
    "\n"
   ]
  },
  {
   "cell_type": "markdown",
   "id": "8f5f5f2d",
   "metadata": {},
   "source": [
    "<center>\n",
    "    <img src=\"https://i.pinimg.com/originals/49/5f/43/495f432cc46bfe6d0bf7977b514843ea.jpg\" \n",
    "    width=\"300\" alt=\"Eye Bee M logo\"    />\n",
    "</center>\n",
    "    \n",
    "\n",
    "# The lessons are great and well explained \n",
    "\n",
    "I enjoy self learning on coursera\n",
    "\n",
    "## Skills I learned in this course:\n",
    "\n",
    "computer skills:\n",
    "\n",
    "*   R\n",
    "*   Python\n",
    "*   SQL\n",
    "*   Bash scripting\n"
   ]
  },
  {
   "cell_type": "code",
   "execution_count": null,
   "id": "416f8ef1",
   "metadata": {},
   "outputs": [],
   "source": []
  }
 ],
 "metadata": {
  "kernelspec": {
   "display_name": "Python 3 (ipykernel)",
   "language": "python",
   "name": "python3"
  },
  "language_info": {
   "codemirror_mode": {
    "name": "ipython",
    "version": 3
   },
   "file_extension": ".py",
   "mimetype": "text/x-python",
   "name": "python",
   "nbconvert_exporter": "python",
   "pygments_lexer": "ipython3",
   "version": "3.9.12"
  }
 },
 "nbformat": 4,
 "nbformat_minor": 5
}
